{
  "cells": [
    {
      "cell_type": "markdown",
      "metadata": {
        "id": "PtbbDHMa4p88"
      },
      "source": [
        "[![Open In Colab](https://colab.research.google.com/assets/colab-badge.svg)](https://colab.research.google.com/github/abdn-cs3033-ai/practicals/blob/main/week08/tutorial7-mdp.ipynb)"
      ]
    },
    {
      "cell_type": "markdown",
      "metadata": {
        "id": "MRMdbapZ4p8-"
      },
      "source": [
        "# CS3033: Artificial Intelligence\n",
        "\n",
        "## Tutorial 07: Markov Decision Processes\n",
        "\n",
        "#### Prof. Felipe Meneguzzi\n",
        "\n",
        "Adapted from code in the [AIMA-Python](https://github.com/aimacode/aima-python) public repository."
      ]
    },
    {
      "cell_type": "markdown",
      "metadata": {
        "id": "Cvr4YqVN4p8_"
      },
      "source": [
        "In order to run this tutorial, you need to download the auxiliary files from Github into your notebook, which we do with Jupyter's shell commands (if you downloaded the entire repo, the code below is not necessary)."
      ]
    },
    {
      "cell_type": "code",
      "execution_count": 1,
      "metadata": {
        "id": "6WwULyXe4p8_",
        "outputId": "035acca0-726b-4d12-a71a-bcb37d9a9a5c",
        "colab": {
          "base_uri": "https://localhost:8080/"
        }
      },
      "outputs": [
        {
          "output_type": "stream",
          "name": "stdout",
          "text": [
            "We are in Google colab, we need to clone the repo\n",
            "Requirement already satisfied: seaborn in /usr/local/lib/python3.10/dist-packages (0.12.2)\n",
            "Requirement already satisfied: numpy!=1.24.0,>=1.17 in /usr/local/lib/python3.10/dist-packages (from seaborn) (1.23.5)\n",
            "Requirement already satisfied: pandas>=0.25 in /usr/local/lib/python3.10/dist-packages (from seaborn) (1.5.3)\n",
            "Requirement already satisfied: matplotlib!=3.6.1,>=3.1 in /usr/local/lib/python3.10/dist-packages (from seaborn) (3.7.1)\n",
            "Requirement already satisfied: contourpy>=1.0.1 in /usr/local/lib/python3.10/dist-packages (from matplotlib!=3.6.1,>=3.1->seaborn) (1.1.1)\n",
            "Requirement already satisfied: cycler>=0.10 in /usr/local/lib/python3.10/dist-packages (from matplotlib!=3.6.1,>=3.1->seaborn) (0.12.1)\n",
            "Requirement already satisfied: fonttools>=4.22.0 in /usr/local/lib/python3.10/dist-packages (from matplotlib!=3.6.1,>=3.1->seaborn) (4.43.1)\n",
            "Requirement already satisfied: kiwisolver>=1.0.1 in /usr/local/lib/python3.10/dist-packages (from matplotlib!=3.6.1,>=3.1->seaborn) (1.4.5)\n",
            "Requirement already satisfied: packaging>=20.0 in /usr/local/lib/python3.10/dist-packages (from matplotlib!=3.6.1,>=3.1->seaborn) (23.2)\n",
            "Requirement already satisfied: pillow>=6.2.0 in /usr/local/lib/python3.10/dist-packages (from matplotlib!=3.6.1,>=3.1->seaborn) (9.4.0)\n",
            "Requirement already satisfied: pyparsing>=2.3.1 in /usr/local/lib/python3.10/dist-packages (from matplotlib!=3.6.1,>=3.1->seaborn) (3.1.1)\n",
            "Requirement already satisfied: python-dateutil>=2.7 in /usr/local/lib/python3.10/dist-packages (from matplotlib!=3.6.1,>=3.1->seaborn) (2.8.2)\n",
            "Requirement already satisfied: pytz>=2020.1 in /usr/local/lib/python3.10/dist-packages (from pandas>=0.25->seaborn) (2023.3.post1)\n",
            "Requirement already satisfied: six>=1.5 in /usr/local/lib/python3.10/dist-packages (from python-dateutil>=2.7->matplotlib!=3.6.1,>=3.1->seaborn) (1.16.0)\n",
            "Cloning into 'practicals'...\n",
            "remote: Enumerating objects: 305, done.\u001b[K\n",
            "remote: Counting objects: 100% (36/36), done.\u001b[K\n",
            "remote: Compressing objects: 100% (21/21), done.\u001b[K\n",
            "remote: Total 305 (delta 21), reused 20 (delta 15), pack-reused 269\u001b[K\n",
            "Receiving objects: 100% (305/305), 4.11 MiB | 7.81 MiB/s, done.\n",
            "Resolving deltas: 100% (150/150), done.\n",
            "/content/practicals/week08\n"
          ]
        }
      ],
      "source": [
        "try:\n",
        "  import google.colab\n",
        "  print(\"We are in Google colab, we need to clone the repo\")\n",
        "  !pip3 install seaborn --user\n",
        "  !git clone https://github.com/abdn-cs3033-ai/practicals.git\n",
        "  %cd practicals/week08\n",
        "except:\n",
        "  print(\"Not in colab\")"
      ]
    },
    {
      "cell_type": "markdown",
      "metadata": {
        "id": "aSL1td4g4p9A"
      },
      "source": [
        "## Markov Decision Processes\n",
        "\n",
        "**Markov Decision Processes** are stochastic processes in which an agent partially controls transitions between states by choosing actions, and which the subsequent transition probabilities between states follow the Markovian property. This means that single states include all the information relevant to compute the transition probability to other states.\n",
        "\n",
        "Recall the elements of an MDP:\n",
        "\n",
        "- A finite set of states $\\mathcal{S}$\n",
        "- A finite set of actions $\\mathcal{A}$\n",
        "- A *markovian* transition model $T(s,a,s') = \\mathbb{P}(S_{t+1}=s' \\mid S_t = s, A_t = a)$\n",
        "- A reward function $R(s)$, alternatively $R(s,a) = \\mathbb{E}[ R_{t+1} \\mid S_t = s, A_t = a]$\n",
        "- A discount factor $\\gamma$\n",
        "\n",
        "We will implement MDPs in the **`MDP`** class below."
      ]
    },
    {
      "cell_type": "code",
      "execution_count": 2,
      "metadata": {
        "id": "TmK8Otn_4p9A"
      },
      "outputs": [],
      "source": [
        "import random\n",
        "from collections import defaultdict\n",
        "\n",
        "import numpy as np\n",
        "\n",
        "from utils4e import vector_add, orientations, turn_right, turn_left\n",
        "\n",
        "from notebook import psource, pseudocode\n",
        "\n",
        "\n",
        "class MDP:\n",
        "    \"\"\"A Markov Decision Process, defined by an initial state, transition model,\n",
        "    and reward function. We also keep track of a gamma value, for use by\n",
        "    algorithms. The transition model is represented somewhat differently from\n",
        "    the text. Instead of P(s' | s, a) being a probability number for each\n",
        "    state/state/action triplet, we instead have T(s, a) return a\n",
        "    list of (p, s') pairs. We also keep track of the possible states,\n",
        "    terminal states, and actions for each state. [Page 646]\"\"\"\n",
        "\n",
        "    def __init__(self, init, actlist, terminals, transitions=None, reward=None, states=None, gamma=0.9):\n",
        "        if not (0 < gamma <= 1):\n",
        "            raise ValueError(\"An MDP must have 0 < gamma <= 1\")\n",
        "\n",
        "        # collect states from transitions table if not passed.\n",
        "        self.states = states or self.get_states_from_transitions(transitions)\n",
        "\n",
        "        self.init = init\n",
        "\n",
        "        if isinstance(actlist, list):\n",
        "            # if actlist is a list, all states have the same actions\n",
        "            self.actlist = actlist\n",
        "\n",
        "        elif isinstance(actlist, dict):\n",
        "            # if actlist is a dict, different actions for each state\n",
        "            self.actlist = actlist\n",
        "\n",
        "        self.terminals = terminals\n",
        "        self.transitions = transitions or {}\n",
        "        if not self.transitions:\n",
        "            print(\"Warning: Transition table is empty.\")\n",
        "\n",
        "        self.gamma = gamma\n",
        "\n",
        "        self.reward = reward or {s: 0 for s in self.states}\n",
        "\n",
        "        # self.check_consistency()\n",
        "\n",
        "    def R(self, state):\n",
        "        \"\"\"Return a numeric reward for this state.\"\"\"\n",
        "        if state not in self.reward: return None\n",
        "        return self.reward[state]\n",
        "\n",
        "    def T(self, state, action):\n",
        "        \"\"\"Transition model. From a state and an action, return a list\n",
        "        of (probability, result-state) pairs.\"\"\"\n",
        "\n",
        "        if not self.transitions:\n",
        "            raise ValueError(\"Transition model is missing\")\n",
        "        else:\n",
        "            return self.transitions[state][action]\n",
        "\n",
        "    def actions(self, state):\n",
        "        \"\"\"Return a list of actions that can be performed in this state. By default, a\n",
        "        fixed list of actions, except for terminal states. Override this\n",
        "        method if you need to specialize by state.\"\"\"\n",
        "\n",
        "        if state in self.terminals:\n",
        "            return [None]\n",
        "        else:\n",
        "            return self.actlist\n",
        "\n",
        "    def get_states_from_transitions(self, transitions):\n",
        "        if isinstance(transitions, dict):\n",
        "            s1 = set(transitions.keys())\n",
        "            s2 = set(tr[1] for actions in transitions.values()\n",
        "                     for effects in actions.values()\n",
        "                     for tr in effects)\n",
        "            return s1.union(s2)\n",
        "        else:\n",
        "            print('Could not retrieve states from transitions')\n",
        "            return None\n",
        "\n",
        "    def check_consistency(self):\n",
        "\n",
        "        # check that all states in transitions are valid\n",
        "        assert set(self.states) == self.get_states_from_transitions(self.transitions)\n",
        "\n",
        "        # check that init is a valid state\n",
        "        assert self.init in self.states\n",
        "\n",
        "        # check reward for each state\n",
        "        assert set(self.reward.keys()) == set(self.states)\n",
        "\n",
        "        # check that all terminals are valid states\n",
        "        assert all(t in self.states for t in self.terminals)\n",
        "\n",
        "        # check that probability distributions for all actions sum to 1\n",
        "        for s1, actions in self.transitions.items():\n",
        "            for a in actions.keys():\n",
        "                s = 0\n",
        "                for o in actions[a]:\n",
        "                    s += o[0]\n",
        "                assert abs(s - 1) < 0.001"
      ]
    },
    {
      "cell_type": "markdown",
      "metadata": {
        "id": "cP0VTsYA4p9B"
      },
      "source": [
        "The class above has attributes for the transition model, the reward function and other elements of an MDP.\n",
        "\n",
        "The **`__init__`** method takes in the following parameters:\n",
        "\n",
        "- `init`: the initial state.\n",
        "- `actlist`: List of actions possible in each state.\n",
        "- `terminals`: List of terminal states where only possible action is exit\n",
        "- `gamma`: Discounting factor $\\gamma$. This makes sure that delayed rewards have less value compared to immediate ones.\n",
        "\n",
        "The **`R`** method returns the reward for each state by using the `self.reward` `dict`. This corresponds to the $R(s)$ formulation.\n",
        "\n",
        "The **`T`** method is somewhat different from the text. Here we return (probability, $s'$) pairs where $s'$ belongs to list of possible state by taking action $a$ in state $s$.\n",
        "\n",
        "The **`actions`** method returns list of actions possible in each state. By default, it returns all actions for states other than terminal states.\n",
        "\n",
        "Note that we also import a number of auxiliary functions you will need in implementing the algorithms we require, specifically:\n",
        "\n",
        "- ```vector_add```\n",
        "- ```orientations```\n",
        "- ```turn_right```\n",
        "- ```turn_left```\n",
        "\n",
        "For this tutorial, we will use a specific subclass of the `MDP` we just created that we specialise to represent the grid worlds we saw in the lecture."
      ]
    },
    {
      "cell_type": "code",
      "execution_count": 3,
      "metadata": {
        "id": "pi4Vz_ZA4p9C"
      },
      "outputs": [],
      "source": [
        "from IPython.display import HTML, display\n",
        "\n",
        "class GridMDP(MDP):\n",
        "    \"\"\"A two-dimensional grid MDP, as in [Figure 16.1]. All you have to do is\n",
        "    specify the grid as a list of lists of rewards; use None for an obstacle\n",
        "    (unreachable state). Also, you should specify the terminal states.\n",
        "    An action is an (x, y) unit vector; e.g. (1, 0) means move east.\"\"\"\n",
        "\n",
        "    def __init__(self, grid, terminals, init=(0, 0), gamma=.9):\n",
        "        grid.reverse()  # because we want row 0 on bottom, not on top\n",
        "        reward = {}\n",
        "        states = set()\n",
        "        self.rows = len(grid)\n",
        "        self.cols = len(grid[0])\n",
        "        self.grid = grid\n",
        "        for x in range(self.cols):\n",
        "            for y in range(self.rows):\n",
        "                if grid[y][x]:\n",
        "                    states.add((x, y))\n",
        "                    reward[(x, y)] = grid[y][x]\n",
        "        self.states = states\n",
        "        actlist = orientations\n",
        "        transitions = {}\n",
        "        for s in states:\n",
        "            transitions[s] = {}\n",
        "            for a in actlist:\n",
        "                transitions[s][a] = self.calculate_T(s, a)\n",
        "        MDP.__init__(self, init, actlist=actlist,\n",
        "                     terminals=terminals, transitions=transitions,\n",
        "                     reward=reward, states=states, gamma=gamma)\n",
        "\n",
        "    def calculate_T(self, state, action):\n",
        "        if action:\n",
        "            return [(0.8, self.go(state, action)),\n",
        "                    (0.1, self.go(state, turn_right(action))),\n",
        "                    (0.1, self.go(state, turn_left(action)))]\n",
        "        else:\n",
        "            return [(0.0, state)]\n",
        "\n",
        "    def T(self, state, action):\n",
        "        return self.transitions[state][action] if action else [(0.0, state)]\n",
        "\n",
        "    def go(self, state, direction):\n",
        "        \"\"\"Return the state that results from going in this direction.\"\"\"\n",
        "\n",
        "        state1 = tuple(vector_add(state, direction))\n",
        "        return state1 if state1 in self.states else state\n",
        "\n",
        "    def to_grid(self, mapping, default = None):\n",
        "        \"\"\"Convert a mapping from (x, y) to v into a [[..., v, ...]] grid.\"\"\"\n",
        "\n",
        "        return list(reversed([[mapping.get((x, y), default)\n",
        "                               for x in range(self.cols)]\n",
        "                              for y in range(self.rows)]))\n",
        "\n",
        "    def to_arrows(self, policy):\n",
        "        chars = {(1, 0): '>', (0, 1): '^', (-1, 0): '<', (0, -1): 'v', None: '.'}\n",
        "        return self.to_grid({s: chars[a] for (s, a) in policy.items()})\n",
        "\n",
        "    def display_policy(self, policy):\n",
        "        \"\"\"Pretty prints the policy in HTML for a Jupyter Notebook\"\"\"\n",
        "        # SYMBOLS = ['&rarr;', '&uarr;', '&larr;', '&darr;']\n",
        "        SYMBOLS = {(1, 0): '&rarr;', (0, 1): '&uarr;', (-1, 0): '&larr;', (0, -1): '&darr;', None: '&#x25CE;'}\n",
        "\n",
        "        p_policy = self.to_grid({s: SYMBOLS[a] for (s, a) in policy.items()}, '&#x25FE;')\n",
        "\n",
        "        display(HTML(\n",
        "        '<table style=\"font-size:300%;border: thick solid;\"><tr>{}</tr></table>'.format(\n",
        "            '</tr><tr>'.join(\n",
        "                '<td>{}</td>'.format('</td><td>'.join(str(_) for _ in row)) for row in p_policy))))"
      ]
    },
    {
      "cell_type": "markdown",
      "metadata": {
        "id": "5GT5kKiX4p9C"
      },
      "source": [
        "Note that we have defined the class for grids, we can represent examples such as the one we saw in the lecture, reproduced below.\n",
        "\n",
        "![Grid World](img/mdp-bare.svg \"Grid World MDP illustration\")\n",
        "\n",
        "We instantiate the object **`mdp`** of the class using a list of lists for both the transition and the sensor model. The code below instantiates the Grid World shown above."
      ]
    },
    {
      "cell_type": "code",
      "execution_count": 4,
      "metadata": {
        "id": "Lc7lg6A34p9D"
      },
      "outputs": [],
      "source": [
        "mdp = GridMDP([[-3, -3, -3, +100],\n",
        "            [-3, None,  -3, -100],\n",
        "            [-3, -3, -3, -3]],\n",
        "            terminals=[(3, 2), (3, 1)])"
      ]
    },
    {
      "cell_type": "markdown",
      "metadata": {
        "id": "KqV7cOQv4p9D"
      },
      "source": [
        "\n",
        "The **__init__** method takes **grid** as an extra parameter compared to the MDP class. The grid is a nested list of rewards in states.\n",
        "\n",
        "The **`go`** method returns the state by going in particular direction by using `vector_add`.\n",
        "\n",
        "The **`actions`** method returns list of actions possible in each state. By default, it returns all actions for states other than terminal states.\n",
        "\n",
        "**`to_arrows`** are used for representing the policy in a grid-like text format. By contrast `display_policy` pretty prints the policy in HTML within the notebook.\n",
        "\n",
        "The **`T`** method is somewhat different from the text. Here we return (probability, $s'$) pairs where $s'$ belongs to list of possible state by taking action $a$ in state $s$. Thus **`T(state, action)`** yields the transition model of the MDP for a given state and action. Note that the indexes in our MDP start in zero.\n",
        "\n",
        "Similarly, the **`R(state)`** method returns the immediate reward for a state."
      ]
    },
    {
      "cell_type": "code",
      "execution_count": 5,
      "metadata": {
        "id": "0ZoHQY2P4p9D",
        "outputId": "b086813c-57a1-4a24-8b78-ab99aadc19fa",
        "colab": {
          "base_uri": "https://localhost:8080/"
        }
      },
      "outputs": [
        {
          "output_type": "stream",
          "name": "stdout",
          "text": [
            "[(0.8, (2, 2)), (0.1, (3, 2)), (0.1, (1, 2))]\n",
            "100\n",
            "None\n",
            "{(0, 1), (1, 2), (2, 1), (0, 0), (3, 1), (2, 0), (3, 0), (0, 2), (2, 2), (1, 0), (3, 2)}\n"
          ]
        }
      ],
      "source": [
        "from utils4e import NORTH\n",
        "print(mdp.T((2,2), NORTH))\n",
        "print(mdp.R((3,2)))\n",
        "print(mdp.R((1,1)))\n",
        "print(mdp.states)"
      ]
    },
    {
      "cell_type": "markdown",
      "metadata": {
        "id": "jC7UIAAX4p9D"
      },
      "source": [
        "## Solving MDPs\n",
        "\n",
        "Now that we have looked how to represent MDPs. We will implement algorithms to solve them. Our ultimate goal is to obtain an optimal policy. We start with the Value Iteration algorithm and a visualisation that should help us understand it better.\n",
        "\n",
        "We start by calculating Value/Utility for each of the states. The Value of each state is the expected sum of discounted future rewards given we start in that state and follow a particular policy $\\pi$. The value or the utility of a state is given by:\n",
        "\n",
        "$$U(s)=R(s)+\\gamma\\max_{a\\epsilon A(s)}\\sum_{s'} P(s'\\ |\\ s,a)U(s')$$\n",
        "\n",
        "This is called the Bellman equation. The Value Iteration algorithm (**Fig. 17.4** in the book) relies on finding solutions of this Equation. The intuition Value Iteration works is because values propagate through the state space by means of local updates. This point will we more clear after we encounter the visualisation. For more information you can refer to **Section 17.2** of the book.\n",
        "\n",
        "Let us first review the pseudocode for value iteration"
      ]
    },
    {
      "cell_type": "code",
      "execution_count": 6,
      "metadata": {
        "id": "qDs3PSgc4p9D",
        "outputId": "60ff42c1-f53c-4f19-928f-0bda0ffe2a18",
        "colab": {
          "base_uri": "https://localhost:8080/",
          "height": 658
        }
      },
      "outputs": [
        {
          "output_type": "execute_result",
          "data": {
            "text/plain": [
              "<IPython.core.display.Markdown object>"
            ],
            "text/markdown": "### AIMA3e\n__function__ VALUE-ITERATION(_mdp_, _&epsi;_) __returns__ a utility function  \n&emsp;__inputs__: _mdp_, an MDP with states _S_, actions _A_(_s_), transition model _P_(_s&prime;_ &vert; _s_, _a_),  \n&emsp;&emsp;&emsp;&emsp;&emsp;&emsp;rewards _R_(_s_), discount _&gamma;_  \n&emsp;&emsp;&emsp;_&epsi;_, the maximum error allowed in the utility of any state  \n&emsp;__local variables__: _U_, _U&prime;_, vectors of utilities for states in _S_, initially zero  \n&emsp;&emsp;&emsp;&emsp;&emsp;&emsp;&emsp;&emsp;_&delta;_, the maximum change in the utility of any state in an iteration  \n\n&emsp;__repeat__  \n&emsp;&emsp;&emsp;_U_ &larr; _U&prime;_; _&delta;_ &larr; 0  \n&emsp;&emsp;&emsp;__for each__ state _s_ in _S_ __do__  \n&emsp;&emsp;&emsp;&emsp;&emsp;_U&prime;_\\[_s_\\] &larr; _R_(_s_) &plus; _&gamma;_ max<sub>_a_ &isin; _A_(_s_)</sub> &Sigma; _P_(_s&prime;_ &vert; _s_, _a_) _U_\\[_s&prime;_\\]  \n&emsp;&emsp;&emsp;&emsp;&emsp;__if__ &vert; _U&prime;_\\[_s_\\] &minus; _U_\\[_s_\\]  &vert; &gt; _&delta;_ __then__ _&delta;_ &larr; &vert; _U&prime;_\\[_s_\\] &minus; _U_\\[_s_\\]  &vert;  \n&emsp;__until__ _&delta;_ &lt; _&epsi;_(1 &minus; _&gamma;_)&sol;_&gamma;_  \n&emsp;__return__ _U_  \n\n---\n__Figure ??__ The value iteration algorithm for calculating utilities of states. The termination condition is from Equation (__??__).\n\n---\n\n## AIMA4e  \n__function__ VALUE-ITERATION(_mdp_, _&epsi;_) __returns__ a utility function  \n&emsp;__inputs__: _mdp_, an MDP with states _S_, actions _A_(_s_), transition model _P_(_s&prime;_ &vert; _s_, _a_),  \n&emsp;&emsp;&emsp;&emsp;&emsp;&emsp;rewards _R_(_s_,_a_,_s&prime;_), discount _&gamma;_  \n&emsp;&emsp;&emsp;_&epsi;_, the maximum error allowed in the utility of any state  \n&emsp;__local variables__: _U_, _U&prime;_, vectors of utilities for states in _S_, initially zero  \n&emsp;&emsp;&emsp;&emsp;&emsp;&emsp;&emsp;&emsp;_&delta;_, the maximum change in the utility of any state in an iteration  \n\n&emsp;__repeat__  \n&emsp;&emsp;&emsp;_U_ &larr; _U&prime;_; _&delta;_ &larr; 0  \n&emsp;&emsp;&emsp;__for each__ state _s_ in _S_ __do__  \n&emsp;&emsp;&emsp;&emsp;&emsp;_U&prime;_\\[_s_\\] &larr; max<sub>_a_ &isin; _A_(_s_)</sub> Q-VALUE(_mdp_,_s_,_a_,_U_)  \n&emsp;&emsp;&emsp;&emsp;&emsp;__if__ &vert; _U&prime;_\\[_s_\\] &minus; _U_\\[_s_\\]  &vert; &gt; _&delta;_ __then__ _&delta;_ &larr; &vert; _U&prime;_\\[_s_\\] &minus; _U_\\[_s_\\]  &vert;  \n&emsp;__until__ _&delta;_ &lt; _&epsi;_(1 &minus; _&gamma;_)&sol;_&gamma;_  \n&emsp;__return__ _U_  \n\n---\n__Figure ??__ The value iteration algorithm for calculating utilities of states. The termination condition is from Equation (__??__).\n~"
          },
          "metadata": {},
          "execution_count": 6
        }
      ],
      "source": [
        "pseudocode(\"Value-Iteration\")"
      ]
    },
    {
      "cell_type": "markdown",
      "metadata": {
        "id": "CcojaRKm4p9E"
      },
      "source": [
        "### Value Iteration\n",
        "Using the pseudocode above we will implement the value iteration algorithm.\n",
        "\n",
        "Our implementation takes as inputs two parameters, an MDP to solve and epsilon, the maximum error allowed in the utility of any state. It returns a dictionary containing utilities where the keys are the states and values represent utilities.\n",
        "\n",
        "Value Iteration starts with arbitrary initial values for the utilities, calculates the right-hand side of the Bellman equation and plugs it into the left-hand side, thereby updating the utility of each state from the utilities of its neighbours.\n",
        "This is repeated until the utility vector we update reaches an equilibrium.\n",
        "It works on the principle of _Dynamic Programming_ - using precomputed information to simplify the subsequent computation.\n",
        "If $U_i(s)$ is the utility value for state $s$ at the $i$ th iteration, the iteration step, called Bellman update, looks like this:\n",
        "\n",
        "$$ U_{i+1}(s) \\leftarrow R(s) + \\gamma \\max_{a \\epsilon A(s)} \\sum_{s'} P(s'\\ |\\ s,a)U_{i}(s') $$\n",
        "\n",
        "As you might have noticed, `value_iteration` has an infinite loop. How do we decide when to stop iterating?\n",
        "The concept of _contraction_ successfully explains the convergence of value iteration.\n",
        "Refer to **Section 17.2.3** of the book for a detailed explanation.\n",
        "In the algorithm, we calculate a value $delta$ that measures the difference in the utilities of the current time step and the previous time step.\n",
        "\n",
        "$$\\delta = \\max{(\\delta, \\begin{vmatrix}U_{i + 1}(s) - U_i(s)\\end{vmatrix})}$$\n",
        "\n",
        "This value of delta decreases as the values of $U_i$ converge.\n",
        "We terminate the algorithm if the $\\delta$ value is less than a threshold value determined by the hyperparameter _epsilon_.\n",
        "\n",
        "$$\\delta \\lt \\epsilon \\frac{(1 - \\gamma)}{\\gamma}$$\n",
        "\n",
        "To summarize, the Bellman update is a _contraction_ by a factor of $gamma$ on the space of utility vectors.\n",
        "Hence, from the properties of contractions in general, it follows that `value_iteration` always converges to a unique solution of the Bellman equations whenever $gamma$ is less than 1.\n",
        "We then terminate the algorithm when we reach a reasonable approximation.\n",
        "In practice, it often occurs that the policy $pi$ becomes optimal long before the utility function converges. For the given 4 x 3 environment with $gamma = 0.9$, the policy $pi$ is optimal when $i = 4$ (at the 4th iteration), even though the maximum error in the utility function is stil 0.46. This can be clarified from **figure 17.6** in the book. Hence, to increase computational efficiency, we often use another method to solve MDPs called Policy Iteration which we will see in the later part of this notebook.\n",
        "\n",
        "In this tutorial, you only need to implement the Bellman update within the algorithm.\n",
        "\n"
      ]
    },
    {
      "cell_type": "code",
      "execution_count": 9,
      "metadata": {
        "id": "hLDygQ0R4p9E"
      },
      "outputs": [],
      "source": [
        "# ______________________________________________________________________________\n",
        "# 16.1.3 The Bellman equation for utilities\n",
        "\n",
        "### You can use this function in your value iteration implementation (but you don't need it)\n",
        "def q_value(mdp, s, a, U):\n",
        "    \"\"\"Returns the expected value of taking an action `a` at a state `s` under utility `U`\"\"\"\n",
        "    if not a:\n",
        "        return mdp.R(s)\n",
        "    res = 0\n",
        "    for p, s_prime in mdp.T(s, a):\n",
        "        res += p * (mdp.R(s) + mdp.gamma * U[s_prime])\n",
        "    return res\n",
        "\n",
        "def value_iteration(mdp, epsilon=0.001):\n",
        "    \"\"\"Solving an MDP by value iteration. [Figure 16.6]\"\"\"\n",
        "\n",
        "    U1 = {s: 0 for s in mdp.states}\n",
        "    R, T, gamma = mdp.R, mdp.T, mdp.gamma\n",
        "    while True:\n",
        "        U = U1.copy()\n",
        "        delta = 0\n",
        "        for s in mdp.states:\n",
        "            ### Your code here\n",
        "            U1[s] = max(q_value(mdp, s, a, U) for a in mdp.actions(s))\n",
        "            delta = max(delta, abs(U1[s] - U[s]))\n",
        "            ### End code\n",
        "            delta = max(delta, abs(U1[s] - U[s]))\n",
        "        if delta <= epsilon * (1 - gamma) / gamma:\n",
        "            return U"
      ]
    },
    {
      "cell_type": "markdown",
      "metadata": {
        "id": "8b1_7EJd4p9E"
      },
      "source": [
        "You will notice that the `value_iteration` function above does not return a policy, just the discounted returns for each state stored in the `U` data structure.\n",
        "\n",
        "In order to extract a policy out of these values, we need a function that selects the action with the best expected reward for each state, essentially implementing the policy extraction we saw in the lecture:\n",
        "\n",
        "$$\\pi(s) = \\argmax_{a} \\sum_{s'}P(s' \\mid s,a)*V(s')$$\n",
        "\n",
        "This is what you will implement below."
      ]
    },
    {
      "cell_type": "code",
      "execution_count": 10,
      "metadata": {
        "id": "87PsFjFi4p9E"
      },
      "outputs": [],
      "source": [
        "def best_policy(mdp, U):\n",
        "    \"\"\"Given an MDP and a utility function U, determine the best policy,\n",
        "    as a mapping from state to action.\"\"\"\n",
        "\n",
        "    pi = {}\n",
        "    for s in mdp.states:\n",
        "        ### Your code here\n",
        "        pi[s] = max(mdp.actions(s), key=lambda a: q_value(mdp, s, a, U))\n",
        "        ### End code\n",
        "    return pi"
      ]
    },
    {
      "cell_type": "markdown",
      "metadata": {
        "id": "UcBqyu5z4p9F"
      },
      "source": [
        "For now, let us solve the GridMDP we defined, using `value_iteration`."
      ]
    },
    {
      "cell_type": "code",
      "execution_count": 11,
      "metadata": {
        "id": "BDtUqGWc4p9F",
        "outputId": "0a06275b-cdf7-4d4e-b487-3677b2fa6070",
        "colab": {
          "base_uri": "https://localhost:8080/"
        }
      },
      "outputs": [
        {
          "output_type": "stream",
          "name": "stdout",
          "text": [
            "{(0, 1): (0, 1), (1, 2): (1, 0), (2, 1): (0, 1), (0, 0): (0, 1), (3, 1): None, (2, 0): (-1, 0), (3, 0): (-1, 0), (0, 2): (1, 0), (2, 2): (1, 0), (1, 0): (-1, 0), (3, 2): None}\n"
          ]
        }
      ],
      "source": [
        "mdp = GridMDP([[-3, -3, -3, +100],\n",
        "            [-3, None,  -3, -100],\n",
        "            [-3, -3, -3, -3]],\n",
        "            terminals=[(3, 2), (3, 1)], gamma=1)\n",
        "U = value_iteration(mdp, epsilon=0.01)\n",
        "policy = best_policy(mdp,U)\n",
        "print(policy)"
      ]
    },
    {
      "cell_type": "markdown",
      "metadata": {
        "id": "2p7y5GVV4p9F"
      },
      "source": [
        "Let's look at the resulting policy"
      ]
    },
    {
      "cell_type": "code",
      "execution_count": 14,
      "metadata": {
        "id": "Wytj_VgA4p9H",
        "outputId": "e56419ff-3cf8-47ae-aadf-c734af525a70",
        "colab": {
          "base_uri": "https://localhost:8080/",
          "height": 197
        }
      },
      "outputs": [
        {
          "output_type": "display_data",
          "data": {
            "text/plain": [
              "<IPython.core.display.HTML object>"
            ],
            "text/html": [
              "<table style=\"font-size:300%;border: thick solid;\"><tr><td>&rarr;</td><td>&rarr;</td><td>&rarr;</td><td>&#x25CE;</td></tr><tr><td>&uarr;</td><td>&#x25FE;</td><td>&uarr;</td><td>&#x25CE;</td></tr><tr><td>&uarr;</td><td>&larr;</td><td>&larr;</td><td>&larr;</td></tr></table>"
            ]
          },
          "metadata": {}
        }
      ],
      "source": [
        "mdp.display_policy(policy)"
      ]
    },
    {
      "cell_type": "markdown",
      "metadata": {
        "id": "1aJcTh1e4p9H"
      },
      "source": [
        "### Visualizing Value Iteration\n",
        "\n",
        "To illustrate that values propagate out of states let us create a simple visualisation. We will be using a modified version of the ```value_iteration``` function which will store U over time. We will also remove the parameter epsilon and instead add the number of iterations we want."
      ]
    },
    {
      "cell_type": "code",
      "execution_count": 15,
      "metadata": {
        "id": "12zCDS6Z4p9H"
      },
      "outputs": [],
      "source": [
        "def value_iteration_instru(mdp, iterations=20):\n",
        "    U_over_time = []\n",
        "    U1 = {s: 0 for s in mdp.states}\n",
        "    R, T, gamma = mdp.R, mdp.T, mdp.gamma\n",
        "    for _ in range(iterations):\n",
        "        U = U1.copy()\n",
        "        for s in mdp.states:\n",
        "            U1[s] = R(s) + gamma * max([sum([p * U[s1] for (p, s1) in T(s, a)])\n",
        "                                        for a in mdp.actions(s)])\n",
        "        U_over_time.append(U)\n",
        "    return U_over_time"
      ]
    },
    {
      "cell_type": "markdown",
      "metadata": {
        "id": "RmQXFv0A4p9H"
      },
      "source": [
        "Next, we define a function to create the visualisation from the utilities returned by **value_iteration_instru**. Do not worry with the code that immediately follows as it is the usage of Matplotib with IPython Widgets. If you are interested in reading more about these visit [ipywidgets.readthedocs.io](http://ipywidgets.readthedocs.io)"
      ]
    },
    {
      "cell_type": "code",
      "execution_count": 16,
      "metadata": {
        "id": "Lnk0yjoa4p9I"
      },
      "outputs": [],
      "source": [
        "columns = 4\n",
        "rows = 3\n",
        "U_over_time = value_iteration_instru(mdp)"
      ]
    },
    {
      "cell_type": "code",
      "execution_count": 17,
      "metadata": {
        "id": "AxyQDVWL4p9I"
      },
      "outputs": [],
      "source": [
        "%matplotlib inline\n",
        "from notebook import make_plot_grid_step_function\n",
        "\n",
        "plot_grid_step = make_plot_grid_step_function(columns, rows, U_over_time)"
      ]
    },
    {
      "cell_type": "code",
      "execution_count": 18,
      "metadata": {
        "id": "kqYQIq5R4p9I",
        "outputId": "e4486b31-7c38-4e95-9289-5967dc83dd66",
        "colab": {
          "base_uri": "https://localhost:8080/",
          "height": 503,
          "referenced_widgets": [
            "0e8fd39c80804d69a41fbd35757dc06d",
            "4e6a8cf786c54669b6a86ffb2aab4e78",
            "7b47760362b9421ca7e3b6f2ea55d718",
            "ecf8b3796a9840b48801f9594e6347fd",
            "423c152e47894f49b6e035f82a7b21ab",
            "532ab0131e804f4b9466b33868749d09",
            "249d4c9e86ca4762a26bfaa87f8f7de2",
            "e476625600bb4d76a243ea4f22d40205",
            "921f656ea622483899e8deda05dd73d2",
            "d42f6c272e8f4cfc9a61e5d4b6948b8f",
            "c5eefe2fa2d344638efca3e113e42fde",
            "872b37cecf754e70bc83aed55446866d",
            "90addb4234a647d2a1e8886edc0e0073",
            "1562fe7af8a6475e975ef7ae94a29d1f",
            "883a7f7d281d492382f273ffb1919636",
            "5dcbf25f61fa4e418d0815b2fc6552f4",
            "c1d0c2914ae74a16846290a9c1d2a8d0"
          ]
        }
      },
      "outputs": [
        {
          "output_type": "display_data",
          "data": {
            "text/plain": [
              "interactive(children=(IntSlider(value=1, description='iteration', max=15, min=1), Output()), _dom_classes=('wi…"
            ],
            "application/vnd.jupyter.widget-view+json": {
              "version_major": 2,
              "version_minor": 0,
              "model_id": "0e8fd39c80804d69a41fbd35757dc06d"
            }
          },
          "metadata": {}
        },
        {
          "output_type": "display_data",
          "data": {
            "text/plain": [
              "interactive(children=(ToggleButton(value=False, description='Visualize'), ToggleButtons(description='Extra Del…"
            ],
            "application/vnd.jupyter.widget-view+json": {
              "version_major": 2,
              "version_minor": 0,
              "model_id": "e476625600bb4d76a243ea4f22d40205"
            }
          },
          "metadata": {}
        }
      ],
      "source": [
        "import ipywidgets as widgets\n",
        "from IPython.display import display\n",
        "from notebook import make_visualize\n",
        "\n",
        "iteration_slider = widgets.IntSlider(min=1, max=15, step=1, value=0)\n",
        "w=widgets.interactive(plot_grid_step,iteration=iteration_slider)\n",
        "display(w)\n",
        "\n",
        "visualize = True\n",
        "visualize_callback = make_visualize(iteration_slider)\n",
        "\n",
        "visualize_button = widgets.ToggleButton(description = \"Visualize\", value = False)\n",
        "time_select = widgets.ToggleButtons(description='Extra Delay:',options=['0', '0.1', '0.2', '0.5', '0.7', '1.0'])\n",
        "a = widgets.interactive(visualize_callback, Visualize = visualize_button, time_step=time_select)\n",
        "display(a)"
      ]
    },
    {
      "cell_type": "markdown",
      "metadata": {
        "id": "UE1f9zm34p9I"
      },
      "source": [
        "Move the slider above to observe how the utility changes across iterations. It is also possible to move the slider using arrow keys or to jump to the value by directly editing the number with a double click. The **Visualize Button** will automatically animate the slider for you. The **Extra Delay Box** allows you to set time delay in seconds up to one second for each time step.\n",
        "\n",
        "### Effects of the discount factor\n",
        "\n",
        "Here we plot the difference between each iteration of the Value Iteration algorithm using different discount factors. The closest the $\\gamma$ is to zero, the more the values contract over time."
      ]
    },
    {
      "cell_type": "code",
      "execution_count": 19,
      "metadata": {
        "id": "zu_KgehL4p9I",
        "outputId": "45c79603-99ae-4198-d04b-e03dae27e29a",
        "colab": {
          "base_uri": "https://localhost:8080/",
          "height": 506
        }
      },
      "outputs": [
        {
          "output_type": "display_data",
          "data": {
            "text/plain": [
              "<Figure size 642.875x500 with 1 Axes>"
            ],
            "image/png": "[encoded data removed]"
          },
          "metadata": {}
        }
      ],
      "source": [
        "def plot_delta(mdp, discounts=[0.1, 0.2, 0.3, 0.4, 0.5, 0.6, 0.7, 0.8, 0.9, 0.95], epsilon=0.001, max_iter=1000):\n",
        "    data_list = []\n",
        "    import pandas as pd\n",
        "    from matplotlib import pyplot as plt\n",
        "    %matplotlib inline\n",
        "    import seaborn as sns\n",
        "    data_list = []\n",
        "    for d in discounts:\n",
        "        mdp.gamma = d\n",
        "        U_over_time = value_iteration_instru(mdp)\n",
        "        for i in range(len(U_over_time)):\n",
        "            if i > 0:\n",
        "                v = np.array(list(U_over_time[i-1].values()))\n",
        "                vprime = np.array(list(U_over_time[i].values()))\n",
        "                value = max(abs(vprime - v))\n",
        "                data_list.append([value, 'gamma: ' + str(d), i])\n",
        "    data_frame2 = pd.DataFrame(data_list, columns=['delta', 'discount', 'iterations'])\n",
        "    ax = sns.relplot(x = 'iterations', y = 'delta', hue='discount', kind=\"line\", data=data_frame2)\n",
        "mdp = GridMDP([[-3, -3, -3, +100],\n",
        "            [-3, None,  -3, -100],\n",
        "            [-3, -3, -3, -3]],\n",
        "            terminals=[(3, 2), (3, 1)])\n",
        "plot_delta(mdp)\n",
        "\n"
      ]
    },
    {
      "cell_type": "markdown",
      "metadata": {
        "id": "k5bcmqx_4p9J"
      },
      "source": [
        "### Policy Iteration\n",
        "\n",
        "We have already seen that value iteration converges to the optimal policy long before it accurately estimates the utility function.\n",
        "If one action is clearly better than all the others, then the exact magnitude of the utilities in the states involved need not be precise.\n",
        "The policy iteration algorithm works on this insight.\n",
        "The algorithm executes two fundamental steps:\n",
        "\n",
        "- **Policy evaluation**: Given a policy _&#960;&#7522;_, calculate _U&#7522; = U(&#960;&#7522;)_, the utility of each state if _&#960;&#7522;_ were to be executed.\n",
        "- **Policy improvement**: Calculate a new policy _&#960;&#7522;&#8330;&#8321;_ using one-step look-ahead based on the utility values calculated.\n",
        "\n",
        "The algorithm terminates when the policy improvement step yields no change in the utilities.\n",
        "Refer to **Figure 17.6** in the book to see how this is an improvement over value iteration.\n",
        "We now have a simplified version of the Bellman equation:\n",
        "\n",
        "$$U_i(s) = R(s) + \\gamma \\sum_{s'}P(s'\\ |\\ s, \\pi_i(s))U_i(s')$$\n",
        "\n",
        "An important observation in this equation is that this equation does not have the `max` operator, which makes it linear.\n",
        "For _n_ states, we have _n_ linear equations with _n_ unknowns, which can be solved exactly in time _**O(n&#179;)**_.\n",
        "For more implementational details, have a look at **Section 17.3**.\n",
        "\n",
        "Let us now look at how we can compute the expected utility and how we can implement `policy_iteration`."
      ]
    },
    {
      "cell_type": "code",
      "execution_count": 21,
      "metadata": {
        "id": "xdsVuExW4p9J"
      },
      "outputs": [],
      "source": [
        "def expected_utility(a, s, U, mdp):\n",
        "    \"\"\"The expected utility of doing a in state s, according to the MDP and U.\"\"\"\n",
        "    ### Your code here\n",
        "    return sum(p * U[s_prime] for (p, s_prime) in mdp.T(s,a))\n",
        "    ### End code"
      ]
    },
    {
      "cell_type": "markdown",
      "metadata": {
        "id": "SKS-Rh9v4p9J"
      },
      "source": [
        "And we can test the algorithm with the example in the book for the square to the left of the positive reward terminal state."
      ]
    },
    {
      "cell_type": "code",
      "execution_count": 24,
      "metadata": {
        "id": "jSwncb6P4p9J"
      },
      "outputs": [],
      "source": [
        "mdp = GridMDP([[-3, -3, -3, +100],\n",
        "        [-3, None,  -3, -100],\n",
        "        [-3, -3, -3, -3]],\n",
        "        terminals=[(3, 2), (3, 1)])\n",
        "\n",
        "U = value_iteration(mdp)\n",
        "\n",
        "EAST, NORTH, WEST, SOUTH = [(1, 0), (0, 1), (-1, 0), (0, -1)]\n",
        "\n",
        "## Check that we computed this correctly\n",
        "assert(abs(expected_utility(EAST, (2,2), U, mdp) - 93.2) < 0.05)"
      ]
    },
    {
      "cell_type": "markdown",
      "metadata": {
        "id": "NcHOvWEh4p9J"
      },
      "source": [
        "We do not need to do _exact_ policy evaluation.\n",
        "We can instead approximate them reasonably by performing some number of simplified value iteration steps.\n",
        "The simplified Bellman update equation for the process is:\n",
        "\n",
        "$$U_{i+1}(s) \\leftarrow R(s) + \\gamma\\sum_{s'}P(s'\\ |\\ s,\\pi_i(s))U_{i}(s')$$\n",
        "\n",
        "which we repeat _k_ times to produce the next utility estimate. This is called _modified policy iteration_."
      ]
    },
    {
      "cell_type": "code",
      "execution_count": 23,
      "metadata": {
        "id": "TNKixRSy4p9J",
        "outputId": "1e3e5b36-b4d8-42ad-e591-49876fbd6cf1",
        "colab": {
          "base_uri": "https://localhost:8080/",
          "height": 658
        }
      },
      "outputs": [
        {
          "output_type": "execute_result",
          "data": {
            "text/plain": [
              "<IPython.core.display.Markdown object>"
            ],
            "text/markdown": "### AIMA3e\n__function__ VALUE-ITERATION(_mdp_, _&epsi;_) __returns__ a utility function  \n&emsp;__inputs__: _mdp_, an MDP with states _S_, actions _A_(_s_), transition model _P_(_s&prime;_ &vert; _s_, _a_),  \n&emsp;&emsp;&emsp;&emsp;&emsp;&emsp;rewards _R_(_s_), discount _&gamma;_  \n&emsp;&emsp;&emsp;_&epsi;_, the maximum error allowed in the utility of any state  \n&emsp;__local variables__: _U_, _U&prime;_, vectors of utilities for states in _S_, initially zero  \n&emsp;&emsp;&emsp;&emsp;&emsp;&emsp;&emsp;&emsp;_&delta;_, the maximum change in the utility of any state in an iteration  \n\n&emsp;__repeat__  \n&emsp;&emsp;&emsp;_U_ &larr; _U&prime;_; _&delta;_ &larr; 0  \n&emsp;&emsp;&emsp;__for each__ state _s_ in _S_ __do__  \n&emsp;&emsp;&emsp;&emsp;&emsp;_U&prime;_\\[_s_\\] &larr; _R_(_s_) &plus; _&gamma;_ max<sub>_a_ &isin; _A_(_s_)</sub> &Sigma; _P_(_s&prime;_ &vert; _s_, _a_) _U_\\[_s&prime;_\\]  \n&emsp;&emsp;&emsp;&emsp;&emsp;__if__ &vert; _U&prime;_\\[_s_\\] &minus; _U_\\[_s_\\]  &vert; &gt; _&delta;_ __then__ _&delta;_ &larr; &vert; _U&prime;_\\[_s_\\] &minus; _U_\\[_s_\\]  &vert;  \n&emsp;__until__ _&delta;_ &lt; _&epsi;_(1 &minus; _&gamma;_)&sol;_&gamma;_  \n&emsp;__return__ _U_  \n\n---\n__Figure ??__ The value iteration algorithm for calculating utilities of states. The termination condition is from Equation (__??__).\n\n---\n\n## AIMA4e  \n__function__ VALUE-ITERATION(_mdp_, _&epsi;_) __returns__ a utility function  \n&emsp;__inputs__: _mdp_, an MDP with states _S_, actions _A_(_s_), transition model _P_(_s&prime;_ &vert; _s_, _a_),  \n&emsp;&emsp;&emsp;&emsp;&emsp;&emsp;rewards _R_(_s_,_a_,_s&prime;_), discount _&gamma;_  \n&emsp;&emsp;&emsp;_&epsi;_, the maximum error allowed in the utility of any state  \n&emsp;__local variables__: _U_, _U&prime;_, vectors of utilities for states in _S_, initially zero  \n&emsp;&emsp;&emsp;&emsp;&emsp;&emsp;&emsp;&emsp;_&delta;_, the maximum change in the utility of any state in an iteration  \n\n&emsp;__repeat__  \n&emsp;&emsp;&emsp;_U_ &larr; _U&prime;_; _&delta;_ &larr; 0  \n&emsp;&emsp;&emsp;__for each__ state _s_ in _S_ __do__  \n&emsp;&emsp;&emsp;&emsp;&emsp;_U&prime;_\\[_s_\\] &larr; max<sub>_a_ &isin; _A_(_s_)</sub> Q-VALUE(_mdp_,_s_,_a_,_U_)  \n&emsp;&emsp;&emsp;&emsp;&emsp;__if__ &vert; _U&prime;_\\[_s_\\] &minus; _U_\\[_s_\\]  &vert; &gt; _&delta;_ __then__ _&delta;_ &larr; &vert; _U&prime;_\\[_s_\\] &minus; _U_\\[_s_\\]  &vert;  \n&emsp;__until__ _&delta;_ &lt; _&epsi;_(1 &minus; _&gamma;_)&sol;_&gamma;_  \n&emsp;__return__ _U_  \n\n---\n__Figure ??__ The value iteration algorithm for calculating utilities of states. The termination condition is from Equation (__??__).\n~"
          },
          "metadata": {},
          "execution_count": 23
        }
      ],
      "source": [
        "pseudocode('Value-Iteration')"
      ]
    },
    {
      "cell_type": "code",
      "execution_count": 25,
      "metadata": {
        "id": "qXa17atM4p9J"
      },
      "outputs": [],
      "source": [
        "def policy_iteration(mdp):\n",
        "    \"\"\"Solve an MDP by policy iteration [Figure 17.7]\"\"\"\n",
        "\n",
        "    U = {s: 0 for s in mdp.states}\n",
        "    pi = {s: random.choice(mdp.actions(s)) for s in mdp.states}\n",
        "    while True:\n",
        "        U = policy_evaluation(pi, U, mdp)\n",
        "        unchanged = True\n",
        "        for s in mdp.states:\n",
        "            a_star = max(mdp.actions(s), key=lambda a: q_value(mdp, s, a, U))\n",
        "            # a = max(mdp.actions(s), key=lambda a: expected_utility(a, s, U, mdp))\n",
        "            if q_value(mdp, s, a_star, U) > q_value(mdp, s, pi[s], U):\n",
        "                pi[s] = a_star\n",
        "                unchanged = False\n",
        "        if unchanged:\n",
        "            return pi\n",
        "\n",
        "\n",
        "def policy_evaluation(pi, U, mdp, k=20):\n",
        "    \"\"\"Return an updated utility mapping U from each state in the MDP to its\n",
        "    utility, using an approximation (modified policy iteration).\"\"\"\n",
        "\n",
        "    R, T, gamma = mdp.R, mdp.T, mdp.gamma\n",
        "    for i in range(k):\n",
        "        for s in mdp.states:\n",
        "            U[s] = R(s) + gamma * sum(p * U[s1] for (p, s1) in T(s, pi[s]))\n",
        "    return U"
      ]
    },
    {
      "cell_type": "markdown",
      "metadata": {
        "id": "ao_90FUa4p9K"
      },
      "source": [
        "We can now test this new algorithm with our Grid World."
      ]
    },
    {
      "cell_type": "code",
      "execution_count": 26,
      "metadata": {
        "id": "h9FJYCX-4p9K",
        "outputId": "68641015-af85-416e-eef5-bf0ae0440a27",
        "colab": {
          "base_uri": "https://localhost:8080/",
          "height": 412
        }
      },
      "outputs": [
        {
          "output_type": "stream",
          "name": "stdout",
          "text": [
            "This is the policy from Policy Iteration\n"
          ]
        },
        {
          "output_type": "display_data",
          "data": {
            "text/plain": [
              "<IPython.core.display.HTML object>"
            ],
            "text/html": [
              "<table style=\"font-size:300%;border: thick solid;\"><tr><td>&rarr;</td><td>&rarr;</td><td>&rarr;</td><td>&#x25CE;</td></tr><tr><td>&uarr;</td><td>&#x25FE;</td><td>&uarr;</td><td>&#x25CE;</td></tr><tr><td>&uarr;</td><td>&larr;</td><td>&larr;</td><td>&larr;</td></tr></table>"
            ]
          },
          "metadata": {}
        },
        {
          "output_type": "stream",
          "name": "stdout",
          "text": [
            "This is the policy from Value Iteration\n"
          ]
        },
        {
          "output_type": "display_data",
          "data": {
            "text/plain": [
              "<IPython.core.display.HTML object>"
            ],
            "text/html": [
              "<table style=\"font-size:300%;border: thick solid;\"><tr><td>&rarr;</td><td>&rarr;</td><td>&rarr;</td><td>&#x25CE;</td></tr><tr><td>&uarr;</td><td>&#x25FE;</td><td>&uarr;</td><td>&#x25CE;</td></tr><tr><td>&uarr;</td><td>&larr;</td><td>&larr;</td><td>&larr;</td></tr></table>"
            ]
          },
          "metadata": {}
        }
      ],
      "source": [
        "mdp = GridMDP([[-3, -3, -3, +100],\n",
        "        [-3, None,  -3, -100],\n",
        "        [-3, -3, -3, -3]],\n",
        "        terminals=[(3, 2), (3, 1)], gamma=1)\n",
        "\n",
        "pi = policy_iteration(mdp)\n",
        "print(\"This is the policy from Policy Iteration\")\n",
        "mdp.display_policy(pi)\n",
        "# As well as compare the result of computing policies using value iteration for comparison\n",
        "\n",
        "Uvi = value_iteration(mdp)\n",
        "piVi = best_policy(mdp, Uvi)\n",
        "print(\"This is the policy from Value Iteration\")\n",
        "mdp.display_policy(piVi)"
      ]
    },
    {
      "cell_type": "markdown",
      "metadata": {
        "id": "1IclnfwS4p9K"
      },
      "source": [
        "We can try to reproduce all the cases we saw in the lecture for different immediate rewards in the code below, see how they look like.\n",
        "\n",
        "![Sequential Decision Policies](img/sequential-decision-policies.svg \"Sequential Decision Policies\")\n",
        "\n",
        "#### Case 1\n",
        "\n",
        "Notice that, because the cost of taking a step is fairly small compared with the penalty for ending up in `(4, 2)` by accident, the optimal policy is conservative.\n",
        "In state `(3, 1)` it recommends taking the long way round, rather than taking the shorter way and risking getting a large negative reward of -1 in `(4, 2)`."
      ]
    },
    {
      "cell_type": "code",
      "execution_count": 27,
      "metadata": {
        "id": "DfcLXgB44p9K",
        "outputId": "b2c25ffc-dbe4-4cac-d18d-93757fb1658d",
        "colab": {
          "base_uri": "https://localhost:8080/",
          "height": 197
        }
      },
      "outputs": [
        {
          "output_type": "display_data",
          "data": {
            "text/plain": [
              "<IPython.core.display.HTML object>"
            ],
            "text/html": [
              "<table style=\"font-size:300%;border: thick solid;\"><tr><td>&rarr;</td><td>&rarr;</td><td>&rarr;</td><td>&#x25CE;</td></tr><tr><td>&uarr;</td><td>&#x25FE;</td><td>&uarr;</td><td>&#x25CE;</td></tr><tr><td>&uarr;</td><td>&larr;</td><td>&larr;</td><td>&larr;</td></tr></table>"
            ]
          },
          "metadata": {}
        }
      ],
      "source": [
        "# Note that this environment is also initialized in mdp.py by default\n",
        "ntr = -0.04 # setting the non-terminal reward\n",
        "mdp = GridMDP([[ntr, ntr, ntr, +1],\n",
        "                [ntr, None, ntr, -1],\n",
        "                [ntr, ntr, ntr, ntr]],\n",
        "                terminals=[(3, 2), (3, 1)], gamma=1)\n",
        "\n",
        "pi = best_policy(mdp, value_iteration(mdp, .001))\n",
        "\n",
        "mdp.display_policy(pi)"
      ]
    },
    {
      "cell_type": "markdown",
      "metadata": {
        "id": "YhdC88Ed4p9K"
      },
      "source": [
        "#### Case 2\n",
        "$R(s) = -0.4$ in all states except in terminal states"
      ]
    },
    {
      "cell_type": "code",
      "execution_count": 31,
      "metadata": {
        "id": "vbJL1nJm4p9L",
        "outputId": "15dd3b2d-514b-4c9e-c050-ce93ea2c16eb",
        "colab": {
          "base_uri": "https://localhost:8080/",
          "height": 197
        }
      },
      "outputs": [
        {
          "output_type": "display_data",
          "data": {
            "text/plain": [
              "<IPython.core.display.HTML object>"
            ],
            "text/html": [
              "<table style=\"font-size:300%;border: thick solid;\"><tr><td>&rarr;</td><td>&rarr;</td><td>&rarr;</td><td>&#x25CE;</td></tr><tr><td>&uarr;</td><td>&#x25FE;</td><td>&uarr;</td><td>&#x25CE;</td></tr><tr><td>&uarr;</td><td>&rarr;</td><td>&uarr;</td><td>&larr;</td></tr></table>"
            ]
          },
          "metadata": {}
        }
      ],
      "source": [
        "ntr = -0.4 # setting the non-terminal reward\n",
        "mdp = GridMDP([[ntr, ntr, ntr, +1],\n",
        "                [ntr, None, ntr, -1],\n",
        "                [ntr, ntr, ntr, ntr]],\n",
        "                terminals=[(3, 2), (3, 1)])\n",
        "\n",
        "pi = best_policy(mdp, value_iteration(mdp, .001))\n",
        "\n",
        "mdp.display_policy(pi)"
      ]
    },
    {
      "cell_type": "markdown",
      "metadata": {
        "id": "RMP6gaM94p9L"
      },
      "source": [
        "As the reward for each state is now more negative, life is certainly more unpleasant.\n",
        "The agent takes the shortest route to the $+1$ state and is willing to risk falling into the $-1$ state by accident."
      ]
    },
    {
      "cell_type": "markdown",
      "metadata": {
        "id": "OxcOun9I4p9L"
      },
      "source": [
        "#### Case 3\n",
        "\n",
        "$R(s) = -4$ in all states except terminal states"
      ]
    },
    {
      "cell_type": "code",
      "execution_count": 29,
      "metadata": {
        "id": "YGSc8RQe4p9L",
        "outputId": "874d152e-7b4b-4768-f9b9-cecf7e65d89c",
        "colab": {
          "base_uri": "https://localhost:8080/",
          "height": 197
        }
      },
      "outputs": [
        {
          "output_type": "display_data",
          "data": {
            "text/plain": [
              "<IPython.core.display.HTML object>"
            ],
            "text/html": [
              "<table style=\"font-size:300%;border: thick solid;\"><tr><td>&rarr;</td><td>&rarr;</td><td>&rarr;</td><td>&#x25CE;</td></tr><tr><td>&uarr;</td><td>&#x25FE;</td><td>&rarr;</td><td>&#x25CE;</td></tr><tr><td>&rarr;</td><td>&rarr;</td><td>&rarr;</td><td>&uarr;</td></tr></table>"
            ]
          },
          "metadata": {}
        }
      ],
      "source": [
        "ntr = -4 # setting the non-terminal reward\n",
        "mdp = GridMDP([[ntr, ntr, ntr, +1],\n",
        "                [ntr, None, ntr, -1],\n",
        "                [ntr, ntr, ntr, ntr]],\n",
        "                terminals=[(3, 2), (3, 1)], gamma=1)\n",
        "\n",
        "pi = best_policy(mdp, value_iteration(mdp, .001))\n",
        "\n",
        "mdp.display_policy(pi)"
      ]
    },
    {
      "cell_type": "markdown",
      "metadata": {
        "id": "9ym3NjnP4p9M"
      },
      "source": [
        "The living reward for each state is now lower than the least rewarding terminal. Life is so _painful_ that the agent heads for the nearest exit as even the worst exit is less painful than any living state."
      ]
    },
    {
      "cell_type": "markdown",
      "metadata": {
        "id": "V5sN_3BY4p9M"
      },
      "source": [
        "#### Case 4\n",
        "\n",
        "$R(s) = 4$ in all states except terminal states"
      ]
    },
    {
      "cell_type": "code",
      "execution_count": 30,
      "metadata": {
        "id": "QrqwYqrN4p9M",
        "outputId": "83a51a55-9929-41f7-9122-79f09fd85416",
        "colab": {
          "base_uri": "https://localhost:8080/",
          "height": 197
        }
      },
      "outputs": [
        {
          "output_type": "display_data",
          "data": {
            "text/plain": [
              "<IPython.core.display.HTML object>"
            ],
            "text/html": [
              "<table style=\"font-size:300%;border: thick solid;\"><tr><td>&rarr;</td><td>&rarr;</td><td>&larr;</td><td>&#x25CE;</td></tr><tr><td>&rarr;</td><td>&#x25FE;</td><td>&larr;</td><td>&#x25CE;</td></tr><tr><td>&rarr;</td><td>&rarr;</td><td>&rarr;</td><td>&darr;</td></tr></table>"
            ]
          },
          "metadata": {}
        }
      ],
      "source": [
        "ntr = 4 # setting the non-terminal reward\n",
        "mdp = GridMDP([[ntr, ntr, ntr, +1],\n",
        "                [ntr, None, ntr, -1],\n",
        "                [ntr, ntr, ntr, ntr]],\n",
        "                terminals=[(3, 2), (3, 1)], gamma=0.99)\n",
        "\n",
        "pi = best_policy(mdp, value_iteration(mdp, .001))\n",
        "\n",
        "mdp.display_policy(pi)"
      ]
    },
    {
      "cell_type": "markdown",
      "metadata": {
        "id": "icB74o7d4p9M"
      },
      "source": [
        "As life is positively enjoyable, the agent avoids _both_ exits.\n",
        "Even though the output we get is not exactly what we want, it is definitely not wrong.\n",
        "The scenario here requires the agent to anything but reach a terminal state, as this is the only way the agent can maximize its reward (total reward tends to infinity), and the policy does just that.\n",
        "\n",
        "\n",
        "Currently, the GridMDP class does not support an explicit marker for a \"do whatever you like\" action or a \"don't care\" condition.\n",
        "\n",
        "You can however, extend the class to do so.\n",
        "\n",
        "\n",
        "For in-depth knowledge about sequential decision problems, refer **Section 17.1** in the AIMA book."
      ]
    }
  ],
  "metadata": {
    "kernelspec": {
      "display_name": "Python 3.7.13 ('base')",
      "language": "python",
      "name": "python3"
    },
    "language_info": {
      "codemirror_mode": {
        "name": "ipython",
        "version": 3
      },
      "file_extension": ".py",
      "mimetype": "text/x-python",
      "name": "python",
      "nbconvert_exporter": "python",
      "pygments_lexer": "ipython3",
      "version": "3.7.15 (default, Nov 24 2022, 12:02:37) \n[Clang 14.0.6 ]"
    },
    "vscode": {
      "interpreter": {
        "hash": "a04fbcb04a11c3a691703ca23ae4a78f9f717b538476169d44c620972eb30c1e"
      }
    },
    "colab": {
      "provenance": []
    },
    "widgets": {
      "application/vnd.jupyter.widget-state+json": {
        "0e8fd39c80804d69a41fbd35757dc06d": {
          "model_module": "@jupyter-widgets/controls",
          "model_name": "VBoxModel",
          "model_module_version": "1.5.0",
          "state": {
            "_dom_classes": [
              "widget-interact"
            ],
            "_model_module": "@jupyter-widgets/controls",
            "_model_module_version": "1.5.0",
            "_model_name": "VBoxModel",
            "_view_count": null,
            "_view_module": "@jupyter-widgets/controls",
            "_view_module_version": "1.5.0",
            "_view_name": "VBoxView",
            "box_style": "",
            "children": [
              "IPY_MODEL_4e6a8cf786c54669b6a86ffb2aab4e78",
              "IPY_MODEL_7b47760362b9421ca7e3b6f2ea55d718"
            ],
            "layout": "IPY_MODEL_ecf8b3796a9840b48801f9594e6347fd"
          }
        },
        "4e6a8cf786c54669b6a86ffb2aab4e78": {
          "model_module": "@jupyter-widgets/controls",
          "model_name": "IntSliderModel",
          "model_module_version": "1.5.0",
          "state": {
            "_dom_classes": [],
            "_model_module": "@jupyter-widgets/controls",
            "_model_module_version": "1.5.0",
            "_model_name": "IntSliderModel",
            "_view_count": null,
            "_view_module": "@jupyter-widgets/controls",
            "_view_module_version": "1.5.0",
            "_view_name": "IntSliderView",
            "continuous_update": true,
            "description": "iteration",
            "description_tooltip": null,
            "disabled": false,
            "layout": "IPY_MODEL_423c152e47894f49b6e035f82a7b21ab",
            "max": 15,
            "min": 1,
            "orientation": "horizontal",
            "readout": true,
            "readout_format": "d",
            "step": 1,
            "style": "IPY_MODEL_532ab0131e804f4b9466b33868749d09",
            "value": 15
          }
        },
        "7b47760362b9421ca7e3b6f2ea55d718": {
          "model_module": "@jupyter-widgets/output",
          "model_name": "OutputModel",
          "model_module_version": "1.0.0",
          "state": {
            "_dom_classes": [],
            "_model_module": "@jupyter-widgets/output",
            "_model_module_version": "1.0.0",
            "_model_name": "OutputModel",
            "_view_count": null,
            "_view_module": "@jupyter-widgets/output",
            "_view_module_version": "1.0.0",
            "_view_name": "OutputView",
            "layout": "IPY_MODEL_249d4c9e86ca4762a26bfaa87f8f7de2",
            "msg_id": "",
            "outputs": [
              {
                "output_type": "display_data",
                "data": {
                  "text/plain": "<Figure size 640x480 with 1 Axes>",
                  "image/png": "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\n"
                },
                "metadata": {}
              }
            ]
          }
        },
        "ecf8b3796a9840b48801f9594e6347fd": {
          "model_module": "@jupyter-widgets/base",
          "model_name": "LayoutModel",
          "model_module_version": "1.2.0",
          "state": {
            "_model_module": "@jupyter-widgets/base",
            "_model_module_version": "1.2.0",
            "_model_name": "LayoutModel",
            "_view_count": null,
            "_view_module": "@jupyter-widgets/base",
            "_view_module_version": "1.2.0",
            "_view_name": "LayoutView",
            "align_content": null,
            "align_items": null,
            "align_self": null,
            "border": null,
            "bottom": null,
            "display": null,
            "flex": null,
            "flex_flow": null,
            "grid_area": null,
            "grid_auto_columns": null,
            "grid_auto_flow": null,
            "grid_auto_rows": null,
            "grid_column": null,
            "grid_gap": null,
            "grid_row": null,
            "grid_template_areas": null,
            "grid_template_columns": null,
            "grid_template_rows": null,
            "height": null,
            "justify_content": null,
            "justify_items": null,
            "left": null,
            "margin": null,
            "max_height": null,
            "max_width": null,
            "min_height": null,
            "min_width": null,
            "object_fit": null,
            "object_position": null,
            "order": null,
            "overflow": null,
            "overflow_x": null,
            "overflow_y": null,
            "padding": null,
            "right": null,
            "top": null,
            "visibility": null,
            "width": null
          }
        },
        "423c152e47894f49b6e035f82a7b21ab": {
          "model_module": "@jupyter-widgets/base",
          "model_name": "LayoutModel",
          "model_module_version": "1.2.0",
          "state": {
            "_model_module": "@jupyter-widgets/base",
            "_model_module_version": "1.2.0",
            "_model_name": "LayoutModel",
            "_view_count": null,
            "_view_module": "@jupyter-widgets/base",
            "_view_module_version": "1.2.0",
            "_view_name": "LayoutView",
            "align_content": null,
            "align_items": null,
            "align_self": null,
            "border": null,
            "bottom": null,
            "display": null,
            "flex": null,
            "flex_flow": null,
            "grid_area": null,
            "grid_auto_columns": null,
            "grid_auto_flow": null,
            "grid_auto_rows": null,
            "grid_column": null,
            "grid_gap": null,
            "grid_row": null,
            "grid_template_areas": null,
            "grid_template_columns": null,
            "grid_template_rows": null,
            "height": null,
            "justify_content": null,
            "justify_items": null,
            "left": null,
            "margin": null,
            "max_height": null,
            "max_width": null,
            "min_height": null,
            "min_width": null,
            "object_fit": null,
            "object_position": null,
            "order": null,
            "overflow": null,
            "overflow_x": null,
            "overflow_y": null,
            "padding": null,
            "right": null,
            "top": null,
            "visibility": null,
            "width": null
          }
        },
        "532ab0131e804f4b9466b33868749d09": {
          "model_module": "@jupyter-widgets/controls",
          "model_name": "SliderStyleModel",
          "model_module_version": "1.5.0",
          "state": {
            "_model_module": "@jupyter-widgets/controls",
            "_model_module_version": "1.5.0",
            "_model_name": "SliderStyleModel",
            "_view_count": null,
            "_view_module": "@jupyter-widgets/base",
            "_view_module_version": "1.2.0",
            "_view_name": "StyleView",
            "description_width": "",
            "handle_color": null
          }
        },
        "249d4c9e86ca4762a26bfaa87f8f7de2": {
          "model_module": "@jupyter-widgets/base",
          "model_name": "LayoutModel",
          "model_module_version": "1.2.0",
          "state": {
            "_model_module": "@jupyter-widgets/base",
            "_model_module_version": "1.2.0",
            "_model_name": "LayoutModel",
            "_view_count": null,
            "_view_module": "@jupyter-widgets/base",
            "_view_module_version": "1.2.0",
            "_view_name": "LayoutView",
            "align_content": null,
            "align_items": null,
            "align_self": null,
            "border": null,
            "bottom": null,
            "display": null,
            "flex": null,
            "flex_flow": null,
            "grid_area": null,
            "grid_auto_columns": null,
            "grid_auto_flow": null,
            "grid_auto_rows": null,
            "grid_column": null,
            "grid_gap": null,
            "grid_row": null,
            "grid_template_areas": null,
            "grid_template_columns": null,
            "grid_template_rows": null,
            "height": null,
            "justify_content": null,
            "justify_items": null,
            "left": null,
            "margin": null,
            "max_height": null,
            "max_width": null,
            "min_height": null,
            "min_width": null,
            "object_fit": null,
            "object_position": null,
            "order": null,
            "overflow": null,
            "overflow_x": null,
            "overflow_y": null,
            "padding": null,
            "right": null,
            "top": null,
            "visibility": null,
            "width": null
          }
        },
        "e476625600bb4d76a243ea4f22d40205": {
          "model_module": "@jupyter-widgets/controls",
          "model_name": "VBoxModel",
          "model_module_version": "1.5.0",
          "state": {
            "_dom_classes": [
              "widget-interact"
            ],
            "_model_module": "@jupyter-widgets/controls",
            "_model_module_version": "1.5.0",
            "_model_name": "VBoxModel",
            "_view_count": null,
            "_view_module": "@jupyter-widgets/controls",
            "_view_module_version": "1.5.0",
            "_view_name": "VBoxView",
            "box_style": "",
            "children": [
              "IPY_MODEL_921f656ea622483899e8deda05dd73d2",
              "IPY_MODEL_d42f6c272e8f4cfc9a61e5d4b6948b8f",
              "IPY_MODEL_c5eefe2fa2d344638efca3e113e42fde"
            ],
            "layout": "IPY_MODEL_872b37cecf754e70bc83aed55446866d"
          }
        },
        "921f656ea622483899e8deda05dd73d2": {
          "model_module": "@jupyter-widgets/controls",
          "model_name": "ToggleButtonModel",
          "model_module_version": "1.5.0",
          "state": {
            "_dom_classes": [],
            "_model_module": "@jupyter-widgets/controls",
            "_model_module_version": "1.5.0",
            "_model_name": "ToggleButtonModel",
            "_view_count": null,
            "_view_module": "@jupyter-widgets/controls",
            "_view_module_version": "1.5.0",
            "_view_name": "ToggleButtonView",
            "button_style": "",
            "description": "Visualize",
            "description_tooltip": null,
            "disabled": false,
            "icon": "",
            "layout": "IPY_MODEL_90addb4234a647d2a1e8886edc0e0073",
            "style": "IPY_MODEL_1562fe7af8a6475e975ef7ae94a29d1f",
            "tooltip": "",
            "value": true
          }
        },
        "d42f6c272e8f4cfc9a61e5d4b6948b8f": {
          "model_module": "@jupyter-widgets/controls",
          "model_name": "ToggleButtonsModel",
          "model_module_version": "1.5.0",
          "state": {
            "_dom_classes": [],
            "_model_module": "@jupyter-widgets/controls",
            "_model_module_version": "1.5.0",
            "_model_name": "ToggleButtonsModel",
            "_options_labels": [
              "0",
              "0.1",
              "0.2",
              "0.5",
              "0.7",
              "1.0"
            ],
            "_view_count": null,
            "_view_module": "@jupyter-widgets/controls",
            "_view_module_version": "1.5.0",
            "_view_name": "ToggleButtonsView",
            "button_style": "",
            "description": "Extra Delay:",
            "description_tooltip": null,
            "disabled": false,
            "icons": [],
            "index": 5,
            "layout": "IPY_MODEL_883a7f7d281d492382f273ffb1919636",
            "style": "IPY_MODEL_5dcbf25f61fa4e418d0815b2fc6552f4",
            "tooltips": []
          }
        },
        "c5eefe2fa2d344638efca3e113e42fde": {
          "model_module": "@jupyter-widgets/output",
          "model_name": "OutputModel",
          "model_module_version": "1.0.0",
          "state": {
            "_dom_classes": [],
            "_model_module": "@jupyter-widgets/output",
            "_model_module_version": "1.0.0",
            "_model_name": "OutputModel",
            "_view_count": null,
            "_view_module": "@jupyter-widgets/output",
            "_view_module_version": "1.0.0",
            "_view_name": "OutputView",
            "layout": "IPY_MODEL_c1d0c2914ae74a16846290a9c1d2a8d0",
            "msg_id": "",
            "outputs": []
          }
        },
        "872b37cecf754e70bc83aed55446866d": {
          "model_module": "@jupyter-widgets/base",
          "model_name": "LayoutModel",
          "model_module_version": "1.2.0",
          "state": {
            "_model_module": "@jupyter-widgets/base",
            "_model_module_version": "1.2.0",
            "_model_name": "LayoutModel",
            "_view_count": null,
            "_view_module": "@jupyter-widgets/base",
            "_view_module_version": "1.2.0",
            "_view_name": "LayoutView",
            "align_content": null,
            "align_items": null,
            "align_self": null,
            "border": null,
            "bottom": null,
            "display": null,
            "flex": null,
            "flex_flow": null,
            "grid_area": null,
            "grid_auto_columns": null,
            "grid_auto_flow": null,
            "grid_auto_rows": null,
            "grid_column": null,
            "grid_gap": null,
            "grid_row": null,
            "grid_template_areas": null,
            "grid_template_columns": null,
            "grid_template_rows": null,
            "height": null,
            "justify_content": null,
            "justify_items": null,
            "left": null,
            "margin": null,
            "max_height": null,
            "max_width": null,
            "min_height": null,
            "min_width": null,
            "object_fit": null,
            "object_position": null,
            "order": null,
            "overflow": null,
            "overflow_x": null,
            "overflow_y": null,
            "padding": null,
            "right": null,
            "top": null,
            "visibility": null,
            "width": null
          }
        },
        "90addb4234a647d2a1e8886edc0e0073": {
          "model_module": "@jupyter-widgets/base",
          "model_name": "LayoutModel",
          "model_module_version": "1.2.0",
          "state": {
            "_model_module": "@jupyter-widgets/base",
            "_model_module_version": "1.2.0",
            "_model_name": "LayoutModel",
            "_view_count": null,
            "_view_module": "@jupyter-widgets/base",
            "_view_module_version": "1.2.0",
            "_view_name": "LayoutView",
            "align_content": null,
            "align_items": null,
            "align_self": null,
            "border": null,
            "bottom": null,
            "display": null,
            "flex": null,
            "flex_flow": null,
            "grid_area": null,
            "grid_auto_columns": null,
            "grid_auto_flow": null,
            "grid_auto_rows": null,
            "grid_column": null,
            "grid_gap": null,
            "grid_row": null,
            "grid_template_areas": null,
            "grid_template_columns": null,
            "grid_template_rows": null,
            "height": null,
            "justify_content": null,
            "justify_items": null,
            "left": null,
            "margin": null,
            "max_height": null,
            "max_width": null,
            "min_height": null,
            "min_width": null,
            "object_fit": null,
            "object_position": null,
            "order": null,
            "overflow": null,
            "overflow_x": null,
            "overflow_y": null,
            "padding": null,
            "right": null,
            "top": null,
            "visibility": null,
            "width": null
          }
        },
        "1562fe7af8a6475e975ef7ae94a29d1f": {
          "model_module": "@jupyter-widgets/controls",
          "model_name": "DescriptionStyleModel",
          "model_module_version": "1.5.0",
          "state": {
            "_model_module": "@jupyter-widgets/controls",
            "_model_module_version": "1.5.0",
            "_model_name": "DescriptionStyleModel",
            "_view_count": null,
            "_view_module": "@jupyter-widgets/base",
            "_view_module_version": "1.2.0",
            "_view_name": "StyleView",
            "description_width": ""
          }
        },
        "883a7f7d281d492382f273ffb1919636": {
          "model_module": "@jupyter-widgets/base",
          "model_name": "LayoutModel",
          "model_module_version": "1.2.0",
          "state": {
            "_model_module": "@jupyter-widgets/base",
            "_model_module_version": "1.2.0",
            "_model_name": "LayoutModel",
            "_view_count": null,
            "_view_module": "@jupyter-widgets/base",
            "_view_module_version": "1.2.0",
            "_view_name": "LayoutView",
            "align_content": null,
            "align_items": null,
            "align_self": null,
            "border": null,
            "bottom": null,
            "display": null,
            "flex": null,
            "flex_flow": null,
            "grid_area": null,
            "grid_auto_columns": null,
            "grid_auto_flow": null,
            "grid_auto_rows": null,
            "grid_column": null,
            "grid_gap": null,
            "grid_row": null,
            "grid_template_areas": null,
            "grid_template_columns": null,
            "grid_template_rows": null,
            "height": null,
            "justify_content": null,
            "justify_items": null,
            "left": null,
            "margin": null,
            "max_height": null,
            "max_width": null,
            "min_height": null,
            "min_width": null,
            "object_fit": null,
            "object_position": null,
            "order": null,
            "overflow": null,
            "overflow_x": null,
            "overflow_y": null,
            "padding": null,
            "right": null,
            "top": null,
            "visibility": null,
            "width": null
          }
        },
        "5dcbf25f61fa4e418d0815b2fc6552f4": {
          "model_module": "@jupyter-widgets/controls",
          "model_name": "ToggleButtonsStyleModel",
          "model_module_version": "1.5.0",
          "state": {
            "_model_module": "@jupyter-widgets/controls",
            "_model_module_version": "1.5.0",
            "_model_name": "ToggleButtonsStyleModel",
            "_view_count": null,
            "_view_module": "@jupyter-widgets/base",
            "_view_module_version": "1.2.0",
            "_view_name": "StyleView",
            "button_width": "",
            "description_width": "",
            "font_weight": ""
          }
        },
        "c1d0c2914ae74a16846290a9c1d2a8d0": {
          "model_module": "@jupyter-widgets/base",
          "model_name": "LayoutModel",
          "model_module_version": "1.2.0",
          "state": {
            "_model_module": "@jupyter-widgets/base",
            "_model_module_version": "1.2.0",
            "_model_name": "LayoutModel",
            "_view_count": null,
            "_view_module": "@jupyter-widgets/base",
            "_view_module_version": "1.2.0",
            "_view_name": "LayoutView",
            "align_content": null,
            "align_items": null,
            "align_self": null,
            "border": null,
            "bottom": null,
            "display": null,
            "flex": null,
            "flex_flow": null,
            "grid_area": null,
            "grid_auto_columns": null,
            "grid_auto_flow": null,
            "grid_auto_rows": null,
            "grid_column": null,
            "grid_gap": null,
            "grid_row": null,
            "grid_template_areas": null,
            "grid_template_columns": null,
            "grid_template_rows": null,
            "height": null,
            "justify_content": null,
            "justify_items": null,
            "left": null,
            "margin": null,
            "max_height": null,
            "max_width": null,
            "min_height": null,
            "min_width": null,
            "object_fit": null,
            "object_position": null,
            "order": null,
            "overflow": null,
            "overflow_x": null,
            "overflow_y": null,
            "padding": null,
            "right": null,
            "top": null,
            "visibility": null,
            "width": null
          }
        }
      }
    }
  },
  "nbformat": 4,
  "nbformat_minor": 0
}